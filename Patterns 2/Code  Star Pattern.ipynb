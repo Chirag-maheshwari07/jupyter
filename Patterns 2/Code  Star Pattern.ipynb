{
 "cells": [
  {
   "cell_type": "markdown",
   "id": "f06dbfdf",
   "metadata": {},
   "source": [
    "# Code : Star Pattern\n",
    "Send Feedback\n",
    "Print the following pattern\n",
    "Pattern for N = 4\n",
    "\n",
    "\n",
    "The dots represent spaces.\n",
    "\n",
    "\n",
    "Input Format :\n",
    "N (Total no. of rows)\n",
    "Output Format :\n",
    "Pattern in N lines\n",
    "Constraints :\n",
    "0 <= N <= 50\n",
    "Sample Input 1 :\n",
    "3\n",
    "Sample Output 1 :\n",
    "   *\n",
    "  *** \n",
    " *****\n",
    "Sample Input 2 :\n",
    "4\n",
    "Sample Output 2 :\n",
    "    *\n",
    "   *** \n",
    "  *****\n",
    " *******"
   ]
  },
  {
   "cell_type": "code",
   "execution_count": null,
   "id": "31c5b980",
   "metadata": {},
   "outputs": [],
   "source": [
    "## Read input as specified in the question.\n",
    "## Print output as specified in the question.\n",
    "n=int(input())\n",
    "i=1\n",
    "while(i<=n):\n",
    "    space=1\n",
    "    while(space<=n-i):\n",
    "        print(' ',end=(''))\n",
    "        space+=1\n",
    "    p=1\n",
    "    while(p<=i):\n",
    "        print('*',end=(''))\n",
    "        p+=1\n",
    "    p=i-1\n",
    "    while(p>=1):\n",
    "        print('*',end=(''))\n",
    "        p-=1\n",
    "    print('')\n",
    "    i+=1\n",
    "        "
   ]
  }
 ],
 "metadata": {
  "kernelspec": {
   "display_name": "Python 3",
   "language": "python",
   "name": "python3"
  },
  "language_info": {
   "codemirror_mode": {
    "name": "ipython",
    "version": 3
   },
   "file_extension": ".py",
   "mimetype": "text/x-python",
   "name": "python",
   "nbconvert_exporter": "python",
   "pygments_lexer": "ipython3",
   "version": "3.8.8"
  }
 },
 "nbformat": 4,
 "nbformat_minor": 5
}
