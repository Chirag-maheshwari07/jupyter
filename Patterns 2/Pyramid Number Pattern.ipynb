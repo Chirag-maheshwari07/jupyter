{
 "cells": [
  {
   "cell_type": "markdown",
   "id": "4e651bbb",
   "metadata": {},
   "source": [
    "# Pyramid Number Pattern\n",
    "Send Feedback\n",
    "Print the following pattern for the given number of rows.\n",
    "Pattern for N = 4\n",
    "   1\n",
    "  212\n",
    " 32123\n",
    "4321234\n",
    "Input format : N (Total no. of rows)\n",
    "Output format : Pattern in N lines\n",
    "Sample Input :\n",
    "5\n",
    "Sample Output :\n",
    "        1\n",
    "      212\n",
    "    32123\n",
    "  4321234\n",
    "543212345"
   ]
  },
  {
   "cell_type": "code",
   "execution_count": null,
   "id": "0ee19a38",
   "metadata": {},
   "outputs": [],
   "source": [
    "## Read input as specified in the question.\n",
    "## Print output as specified in the question.\n",
    "n=int(input())\n",
    "i=1\n",
    "while(i<=n):\n",
    "    space=1\n",
    "    while(space<=n-i):\n",
    "        print(' ',end=(''))\n",
    "        space+=1\n",
    "    j=i\n",
    "    while(j>=1):     \n",
    "        print(j,end=(''))\n",
    "        j-=1\n",
    "    d=1\n",
    "    k=2\n",
    "    while(d<=i-1):\n",
    "        print(k,end=(''))\n",
    "        k+=1\n",
    "        d+=1\n",
    "    print('')\n",
    "    i+=1"
   ]
  }
 ],
 "metadata": {
  "kernelspec": {
   "display_name": "Python 3",
   "language": "python",
   "name": "python3"
  },
  "language_info": {
   "codemirror_mode": {
    "name": "ipython",
    "version": 3
   },
   "file_extension": ".py",
   "mimetype": "text/x-python",
   "name": "python",
   "nbconvert_exporter": "python",
   "pygments_lexer": "ipython3",
   "version": "3.8.8"
  }
 },
 "nbformat": 4,
 "nbformat_minor": 5
}
