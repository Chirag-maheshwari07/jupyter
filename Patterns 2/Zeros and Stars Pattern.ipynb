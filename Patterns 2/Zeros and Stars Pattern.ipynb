{
 "cells": [
  {
   "cell_type": "markdown",
   "id": "69744ba1",
   "metadata": {},
   "source": [
    "# Zeros and Stars Pattern\n",
    "Send Feedback\n",
    "Print the following pattern\n",
    "Pattern for N = 4\n",
    "*000*000*\n",
    "0*00*00*0\n",
    "00*0*0*00\n",
    "000***000\n",
    "Input Format :\n",
    "N (Total no. of rows)\n",
    "Output Format :\n",
    "Pattern in N lines\n",
    "Sample Input 1 :\n",
    "3\n",
    "Sample Output 1 :\n",
    "*00*00*\n",
    "0*0*0*0\n",
    "00***00\n",
    "Sample Input 2 :\n",
    "5\n",
    "Sample Output 2 :\n",
    "*0000*0000*\n",
    "0*000*000*0\n",
    "00*00*00*00\n",
    "000*0*0*000\n",
    "0000***0000 "
   ]
  },
  {
   "cell_type": "code",
   "execution_count": null,
   "id": "f634e424",
   "metadata": {},
   "outputs": [],
   "source": [
    "## Read input as specified in the question.\n",
    "## Print output as specified in the question.\n",
    "n=int(input())\n",
    "start=1\n",
    "end=2*n+1\n",
    "mid=n+1\n",
    "row=1\n",
    "while row<=n:\n",
    "    column=1\n",
    "    while column<=2*n+1:\n",
    "        if (row==column or column==end or column==mid):\n",
    "            print(\"*\",end=\"\")\n",
    "        else:\n",
    "            print(0,end=\"\")\n",
    "        column=column+1\n",
    "    start=start+1\n",
    "    end=end-1\n",
    "    row=row+1\n",
    "    print()"
   ]
  }
 ],
 "metadata": {
  "kernelspec": {
   "display_name": "Python 3",
   "language": "python",
   "name": "python3"
  },
  "language_info": {
   "codemirror_mode": {
    "name": "ipython",
    "version": 3
   },
   "file_extension": ".py",
   "mimetype": "text/x-python",
   "name": "python",
   "nbconvert_exporter": "python",
   "pygments_lexer": "ipython3",
   "version": "3.8.8"
  }
 },
 "nbformat": 4,
 "nbformat_minor": 5
}
