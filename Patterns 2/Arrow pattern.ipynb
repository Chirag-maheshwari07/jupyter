{
 "cells": [
  {
   "cell_type": "markdown",
   "id": "884ca578",
   "metadata": {},
   "source": [
    "# Arrow pattern\n",
    "Send Feedback\n",
    "Print the following pattern for the given number of rows.\n",
    "Assume N is always odd.\n",
    "Note : There is space after every star.\n",
    "Pattern for N = 7\n",
    "*\n",
    " * *\n",
    "   * * *\n",
    "     * * * *\n",
    "   * * *\n",
    " * *\n",
    "*\n",
    "Input format :\n",
    "Integer N (Total no. of rows)\n",
    "Output format :\n",
    "Pattern in N lines\n",
    "Sample Input :\n",
    "11\n",
    "Sample Output :\n",
    "*\n",
    " * *\n",
    "   * * *\n",
    "     * * * *\n",
    "       * * * * *\n",
    "         * * * * * *\n",
    "       * * * * *\n",
    "     * * * *\n",
    "   * * *\n",
    " * *\n",
    "*\n"
   ]
  },
  {
   "cell_type": "code",
   "execution_count": null,
   "id": "999e43f9",
   "metadata": {},
   "outputs": [],
   "source": [
    "## Read input as specified in the question.\n",
    "## Print output as specified in the question.\n",
    "n=int(input())\n",
    "n1=(n+1)/2\n",
    "i=1\n",
    "while(i<=n1):\n",
    "    space=1\n",
    "    while(space<=i-1):\n",
    "        print(' ',end=(''))\n",
    "        space+=1\n",
    "    stars=1\n",
    "    while(stars<=i):\n",
    "        print('* ',end=(''))\n",
    "        stars+=1\n",
    "    print('')\n",
    "    i+=1\n",
    "n2=(n-1)/2\n",
    "k=1\n",
    "while(k<=n2):\n",
    "    space=n2-k\n",
    "    while(space>=1):\n",
    "        print(' ',end=(''))\n",
    "        space-=1\n",
    "    stars=n2-k+1\n",
    "    while(stars>=1):\n",
    "        print('* ',end=(''))\n",
    "        stars-=1\n",
    "    print('')\n",
    "    k+=1"
   ]
  }
 ],
 "metadata": {
  "kernelspec": {
   "display_name": "Python 3",
   "language": "python",
   "name": "python3"
  },
  "language_info": {
   "codemirror_mode": {
    "name": "ipython",
    "version": 3
   },
   "file_extension": ".py",
   "mimetype": "text/x-python",
   "name": "python",
   "nbconvert_exporter": "python",
   "pygments_lexer": "ipython3",
   "version": "3.8.8"
  }
 },
 "nbformat": 4,
 "nbformat_minor": 5
}
