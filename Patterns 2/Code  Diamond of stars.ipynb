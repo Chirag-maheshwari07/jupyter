{
 "cells": [
  {
   "cell_type": "markdown",
   "id": "255accf9",
   "metadata": {},
   "source": [
    "# Code : Diamond of stars\n",
    "Send Feedback\n",
    "Print the following pattern for the given number of rows.\n",
    "Note: N is always odd.\n",
    "\n",
    "Pattern for N = 5\n",
    "\n",
    "\n",
    "The dots represent spaces.\n",
    "\n",
    "\n",
    "Input format :\n",
    "N (Total no. of rows and can only be odd)\n",
    "Output format :\n",
    "Pattern in N lines\n",
    "Constraints :\n",
    "1 <= N <= 49\n",
    "Sample Input 1:\n",
    "5\n",
    "Sample Output 1:\n",
    "  *\n",
    " ***\n",
    "*****\n",
    " ***\n",
    "  *\n",
    "Sample Input 2:\n",
    "3\n",
    "Sample Output 2:\n",
    "  *\n",
    " ***\n",
    "  *"
   ]
  },
  {
   "cell_type": "code",
   "execution_count": null,
   "id": "7aff2af2",
   "metadata": {},
   "outputs": [],
   "source": [
    "## Read input as specified in the question.\n",
    "## Print output as specified in the question.\n",
    "n=int(input())\n",
    "n1=(n+1)/2\n",
    "i=1\n",
    "while(i<=n1):\n",
    "    space=1\n",
    "    while(space<=n1-i):\n",
    "        print(' ',end=(''))\n",
    "        space+=1\n",
    "    p=1\n",
    "    while(p<=(2*i)-1):\n",
    "        print('*',end=(''))\n",
    "        p+=1\n",
    "    print('')\n",
    "    i+=1\n",
    "n2=(n-1)/2\n",
    "d=n2\n",
    "while(d>=1):\n",
    "    space=1\n",
    "    while(space<=n2-d+1):\n",
    "        print(' ',end=(''))\n",
    "        space+=1\n",
    "    k=1\n",
    "    while(k<=2*d-1):\n",
    "        print('*',end=(''))\n",
    "        k+=1\n",
    "    print('')\n",
    "    d-=1\n",
    "                "
   ]
  }
 ],
 "metadata": {
  "kernelspec": {
   "display_name": "Python 3",
   "language": "python",
   "name": "python3"
  },
  "language_info": {
   "codemirror_mode": {
    "name": "ipython",
    "version": 3
   },
   "file_extension": ".py",
   "mimetype": "text/x-python",
   "name": "python",
   "nbconvert_exporter": "python",
   "pygments_lexer": "ipython3",
   "version": "3.8.8"
  }
 },
 "nbformat": 4,
 "nbformat_minor": 5
}
