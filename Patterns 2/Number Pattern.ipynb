{
 "cells": [
  {
   "cell_type": "markdown",
   "id": "7faa41f9",
   "metadata": {},
   "source": [
    "# Number Pattern\n",
    "Send Feedback\n",
    "Print the following pattern for n number of rows.\n",
    "For eg. N = 5\n",
    "1                1\n",
    "12            21\n",
    "123        321\n",
    "1234    4321\n",
    "1234554321\n",
    "Sample Input 1 :\n",
    "4\n",
    "Sample Output 1 :\n",
    "1            1\n",
    "12        21\n",
    "123    321\n",
    "12344321"
   ]
  },
  {
   "cell_type": "code",
   "execution_count": null,
   "id": "5f6dc379",
   "metadata": {},
   "outputs": [],
   "source": [
    "n=int(input())\n",
    "i=1\n",
    "while(i<=n):\n",
    "    j=1\n",
    "    while(j<=i):\n",
    "        print(j,end=(''))\n",
    "        j+=1\n",
    "    space=(2*n-2*i)\n",
    "    while(space>=1):\n",
    "        print(' ',end=(''))\n",
    "        space-=1\n",
    "    p=i\n",
    "    while(p>=1):\n",
    "        print(p,end=(''))\n",
    "        p-=1\n",
    "    print('')\n",
    "    i+=1\n",
    "        "
   ]
  }
 ],
 "metadata": {
  "kernelspec": {
   "display_name": "Python 3",
   "language": "python",
   "name": "python3"
  },
  "language_info": {
   "codemirror_mode": {
    "name": "ipython",
    "version": 3
   },
   "file_extension": ".py",
   "mimetype": "text/x-python",
   "name": "python",
   "nbconvert_exporter": "python",
   "pygments_lexer": "ipython3",
   "version": "3.8.8"
  }
 },
 "nbformat": 4,
 "nbformat_minor": 5
}
