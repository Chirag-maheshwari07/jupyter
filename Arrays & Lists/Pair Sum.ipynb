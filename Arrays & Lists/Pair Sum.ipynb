{
 "cells": [
  {
   "cell_type": "markdown",
   "id": "41d310dd",
   "metadata": {},
   "source": [
    "# Pair Sum\n",
    "Send Feedback\n",
    "You have been given an integer array/list(ARR) and a number X. Find and return the total number of pairs in the array/list which sum to X.\n",
    "Note:\n",
    "Given array/list can contain duplicate elements. \n",
    "Input format :\n",
    "The first line contains an Integer 't' which denotes the number of test cases or queries to be run. Then the test cases follow.\n",
    "\n",
    "First line of each test case or query contains an integer 'N' representing the size of the first array/list.\n",
    "\n",
    "Second line contains 'N' single space separated integers representing the elements in the array/list.\n",
    "\n",
    "Third line contains an integer 'X'.\n",
    "Output format :\n",
    "For each test case, print the total number of pairs present in the array/list.\n",
    "\n",
    "Output for every test case will be printed in a separate line.\n",
    "Constraints :\n",
    "1 <= t <= 10^2\n",
    "0 <= N <= 10^3\n",
    "0 <= X <= 10^9\n",
    "Time Limit: 1 sec\n",
    "Sample Input 1:\n",
    "1\n",
    "9\n",
    "1 3 6 2 5 4 3 2 4\n",
    "7\n",
    "Sample Output 1:\n",
    "7\n",
    "Sample Input 2:\n",
    "2\n",
    "9\n",
    "1 3 6 2 5 4 3 2 4\n",
    "12\n",
    "6\n",
    "2 8 10 5 -2 5\n",
    "10\n",
    "Sample Output 2:\n",
    "0\n",
    "2\n",
    "\n",
    " Explanation for Input 2:\n",
    "Since there doesn't exist any pair with sum equal to 12 for the first query, we print 0.\n",
    "\n",
    "For the second query, we have 2 pairs in total that sum up to 10. They are, (2, 8) and (5, 5)."
   ]
  },
  {
   "cell_type": "code",
   "execution_count": null,
   "id": "e41e53c5",
   "metadata": {},
   "outputs": [],
   "source": [
    "\n",
    "def duplicate (list1,sum):\n",
    "    sum_time=0\n",
    "    size=len(list1)\n",
    "    for i in range(0,size):\n",
    "        for j in range(i+1,size):\n",
    "            if list1[i] + list1[j]==sum:\n",
    "                sum_time+=1\n",
    "            else:\n",
    "                continue\n",
    "    print(sum_time)\n",
    "\n",
    "n=int(input()) #First Input\n",
    "for i in range(n):\n",
    "    faltu1=int(input()) #Secound input #no of ele in list\n",
    "    if faltu1!=0:\n",
    "        list = [int(x) for x in input().split()]\n",
    "    X=int(input()) #3rd Input\n",
    "    if faltu1!=0 :\n",
    "        duplicate(list,X)\n",
    "    else:\n",
    "        print(0)"
   ]
  }
 ],
 "metadata": {
  "kernelspec": {
   "display_name": "Python 3",
   "language": "python",
   "name": "python3"
  },
  "language_info": {
   "codemirror_mode": {
    "name": "ipython",
    "version": 3
   },
   "file_extension": ".py",
   "mimetype": "text/x-python",
   "name": "python",
   "nbconvert_exporter": "python",
   "pygments_lexer": "ipython3",
   "version": "3.8.8"
  }
 },
 "nbformat": 4,
 "nbformat_minor": 5
}
