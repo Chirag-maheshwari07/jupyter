{
 "cells": [
  {
   "cell_type": "markdown",
   "id": "df2e506b",
   "metadata": {},
   "source": [
    "# Sort 0 1\n",
    "Send Feedback\n",
    "You have been given an integer array/list(ARR) of size N that contains only integers, 0 and 1. Write a function to sort this array/list. Think of a solution which scans the array/list only once and don't require use of an extra array/list.\n",
    "Note:\n",
    "You need to change in the given array/list itself. Hence, no need to return or print anything. \n",
    "Input format :\n",
    "The first line contains an Integer 't' which denotes the number of test cases or queries to be run. Then the test cases follow.\n",
    "\n",
    "First line of each test case or query contains an integer 'N' representing the size of the array/list.\n",
    "\n",
    "Second line contains 'N' single space separated integers(all 0s and 1s) representing the elements in the array/list.\n",
    "Output format :\n",
    "For each test case, print the sorted array/list elements in a row separated by a single space.\n",
    "\n",
    "Output for every test case will be printed in a separate line.\n",
    "Constraints :\n",
    "1 <= t <= 10^2\n",
    "0 <= N <= 10^5\n",
    "Time Limit: 1 sec\n",
    "Sample Input 1:\n",
    "1\n",
    "7\n",
    "0 1 1 0 1 0 1\n",
    "Sample Output 1:\n",
    "0 0 0 1 1 1 1\n",
    "Sample Input 2:\n",
    "2\n",
    "8\n",
    "1 0 1 1 0 1 0 1\n",
    "5\n",
    "0 1 0 1 0\n",
    "Sample Output 2:\n",
    "0 0 0 1 1 1 1 1\n",
    "0 0 0 1 1 "
   ]
  },
  {
   "cell_type": "code",
   "execution_count": null,
   "id": "d0adce21",
   "metadata": {},
   "outputs": [],
   "source": [
    "n=int(input())\n",
    "for i in range(n):\n",
    "    faltu=(input())\n",
    "    list1=[int(x) for x in input().split()]\n",
    "    sort_list1=sorted(list1)\n",
    "    for j in range(len(sort_list1)):\n",
    "        print(sort_list1[j],end=\" \")\n",
    "    print()"
   ]
  }
 ],
 "metadata": {
  "kernelspec": {
   "display_name": "Python 3",
   "language": "python",
   "name": "python3"
  },
  "language_info": {
   "codemirror_mode": {
    "name": "ipython",
    "version": 3
   },
   "file_extension": ".py",
   "mimetype": "text/x-python",
   "name": "python",
   "nbconvert_exporter": "python",
   "pygments_lexer": "ipython3",
   "version": "3.8.8"
  }
 },
 "nbformat": 4,
 "nbformat_minor": 5
}
