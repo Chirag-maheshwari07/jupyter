{
 "cells": [
  {
   "cell_type": "markdown",
   "id": "99b33bea",
   "metadata": {},
   "source": [
    "# Push Zeros to end\n",
    "Send Feedback\n",
    "You have been given a random integer array/list(ARR) of size N. You have been required to push all the zeros that are present in the array/list to the end of it. Also, make sure to maintain the relative order of the non-zero elements.\n",
    "Note:\n",
    "Change in the input array/list itself. You don't need to return or print the elements.\n",
    "\n",
    "You need to do this in one scan of array only. Don't use extra space.\n",
    "\n",
    "Input format :\n",
    "The first line contains an Integer 't' which denotes the number of test cases or queries to be run. Then the test cases follow.\n",
    "\n",
    "First line of each test case or query contains an integer 'N' representing the size of the array/list.\n",
    "\n",
    "Second line contains 'N' single space separated integers representing the elements in the array/list.\n",
    "Output Format :\n",
    "For each test case, print the elements of the array/list in the desired order separated by a single space.\n",
    "\n",
    "Output for every test case will be printed in a separate line.\n",
    "Constraints :\n",
    "1 <= t <= 10^2\n",
    "0 <= N <= 10^5\n",
    "Time Limit: 1 sec\n",
    "Sample Input 1:\n",
    "1\n",
    "7\n",
    "2 0 0 1 3 0 0\n",
    "Sample Output 1:\n",
    "2 1 3 0 0 0 0\n",
    " Explanation for the Sample Input 1 :\n",
    "All the zeros have been pushed towards the end of the array/list. Another important fact is that the order of the non-zero elements have been maintained as they appear in the input array/list.\n",
    "Sample Input 2:\n",
    "2\n",
    "5\n",
    "0 3 0 2 0\n",
    "5\n",
    "9 0 0 8 2\n",
    "Sample Output 2:\n",
    "3 2 0 0 0\n",
    "9 8 2 0 0 "
   ]
  },
  {
   "cell_type": "code",
   "execution_count": null,
   "id": "ef4a2606",
   "metadata": {},
   "outputs": [],
   "source": [
    "loop=int(input())\n",
    "for i in range(loop):\n",
    "    no_element=input()\n",
    "    n=input().split()\n",
    "    n.sort(key='0'.__eq__)\n",
    "    for k in range(len(n)):\n",
    "        print(n[k],end=' ')\n",
    "    print()"
   ]
  }
 ],
 "metadata": {
  "kernelspec": {
   "display_name": "Python 3",
   "language": "python",
   "name": "python3"
  },
  "language_info": {
   "codemirror_mode": {
    "name": "ipython",
    "version": 3
   },
   "file_extension": ".py",
   "mimetype": "text/x-python",
   "name": "python",
   "nbconvert_exporter": "python",
   "pygments_lexer": "ipython3",
   "version": "3.8.8"
  }
 },
 "nbformat": 4,
 "nbformat_minor": 5
}
