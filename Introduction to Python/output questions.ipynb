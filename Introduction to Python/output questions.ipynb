{
 "cells": [
  {
   "cell_type": "markdown",
   "id": "605b9a1b",
   "metadata": {},
   "source": [
    "Send Feedback\n",
    "What will be the output of the given code segment?\n",
    "a = 10\n",
    "b = 20 \n",
    "multiple = a*b\n",
    "print(multiple)"
   ]
  },
  {
   "cell_type": "code",
   "execution_count": null,
   "id": "2696cd73",
   "metadata": {},
   "outputs": [],
   "source": [
    "Options\n",
    "\n",
    "20\n",
    "\n",
    "200 **(Correct Answer)\n",
    "\n",
    "multiple\n",
    "\n",
    "None of the above\n"
   ]
  }
 ],
 "metadata": {
  "kernelspec": {
   "display_name": "Python 3",
   "language": "python",
   "name": "python3"
  },
  "language_info": {
   "codemirror_mode": {
    "name": "ipython",
    "version": 3
   },
   "file_extension": ".py",
   "mimetype": "text/x-python",
   "name": "python",
   "nbconvert_exporter": "python",
   "pygments_lexer": "ipython3",
   "version": "3.8.8"
  }
 },
 "nbformat": 4,
 "nbformat_minor": 5
}
