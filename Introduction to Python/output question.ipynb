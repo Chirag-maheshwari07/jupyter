{
 "cells": [
  {
   "cell_type": "markdown",
   "id": "49f3ad2c",
   "metadata": {},
   "source": [
    "Output Question\n",
    "Send Feedback\n",
    "What will the following code segment print?\n",
    "print(“Career”)\n",
    "print(“Labs”)\n"
   ]
  },
  {
   "cell_type": "code",
   "execution_count": null,
   "id": "6f8811d9",
   "metadata": {},
   "outputs": [],
   "source": [
    "1-CareerLabs\n",
    "\n",
    "2-Career Labs\n",
    "\n",
    "3-Career Labs(in next line) **(Correct Answer)\n",
    "\n",
    "4-\"Career\"\"Labs\"\n",
    "Correct Answer"
   ]
  },
  {
   "cell_type": "code",
   "execution_count": null,
   "id": "78d8e74a",
   "metadata": {},
   "outputs": [],
   "source": []
  },
  {
   "cell_type": "code",
   "execution_count": null,
   "id": "70f21a55",
   "metadata": {},
   "outputs": [],
   "source": []
  },
  {
   "cell_type": "code",
   "execution_count": null,
   "id": "f6a59c1e",
   "metadata": {},
   "outputs": [],
   "source": []
  },
  {
   "cell_type": "code",
   "execution_count": null,
   "id": "37bfe702",
   "metadata": {},
   "outputs": [],
   "source": []
  },
  {
   "cell_type": "code",
   "execution_count": null,
   "id": "da892a2b",
   "metadata": {},
   "outputs": [],
   "source": []
  }
 ],
 "metadata": {
  "kernelspec": {
   "display_name": "Python 3",
   "language": "python",
   "name": "python3"
  },
  "language_info": {
   "codemirror_mode": {
    "name": "ipython",
    "version": 3
   },
   "file_extension": ".py",
   "mimetype": "text/x-python",
   "name": "python",
   "nbconvert_exporter": "python",
   "pygments_lexer": "ipython3",
   "version": "3.8.8"
  }
 },
 "nbformat": 4,
 "nbformat_minor": 5
}
