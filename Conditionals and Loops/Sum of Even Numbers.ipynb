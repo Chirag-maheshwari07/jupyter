{
 "cells": [
  {
   "cell_type": "markdown",
   "id": "f7a7745b",
   "metadata": {},
   "source": [
    "# Sum of Even Numbers\n",
    "Send Feedback\n",
    "Given a number N, print sum of all even numbers from 1 to N.\n",
    "Input Format :\n",
    "Integer N\n",
    "Output Format :\n",
    "Required Sum \n",
    "Sample Input 1 :\n",
    " 6\n",
    "Sample Output 1 :\n",
    "12"
   ]
  },
  {
   "cell_type": "code",
   "execution_count": null,
   "id": "c58a96d4",
   "metadata": {},
   "outputs": [],
   "source": [
    "'''\n",
    "\tPre-requisite to solve this problem:\n",
    "\tIn this question, we have to find sum of all even numbers till n. To take sum of all the even numbers, we have to take a variable and initialize it to zero. Let us name this variable as sum. \n",
    "\tFollowing code is used to add 2 to sum variable and update it to the same sum variable:\n",
    "\tsum = sum + 2 \n",
    "\t\n",
    "\tHint to solve this problem: We will have to loop on even numbers only and add the even numbers to the same sum variable, described above.\n",
    "'''\n",
    "\n",
    "## Read input as specified in the question.\n",
    "## Print output as specified in the question.\n",
    "n=int(input())\n",
    "i=0\n",
    "sum_even=0\n",
    "while(i<=n):\n",
    "    r=i%2\n",
    "    if(r==0):\n",
    "        sum_even=sum_even+i\n",
    "    i=i+1\n",
    "print(sum_even)"
   ]
  }
 ],
 "metadata": {
  "kernelspec": {
   "display_name": "Python 3",
   "language": "python",
   "name": "python3"
  },
  "language_info": {
   "codemirror_mode": {
    "name": "ipython",
    "version": 3
   },
   "file_extension": ".py",
   "mimetype": "text/x-python",
   "name": "python",
   "nbconvert_exporter": "python",
   "pygments_lexer": "ipython3",
   "version": "3.8.8"
  }
 },
 "nbformat": 4,
 "nbformat_minor": 5
}
