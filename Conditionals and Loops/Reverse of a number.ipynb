{
 "cells": [
  {
   "cell_type": "markdown",
   "id": "ff8e0cd3",
   "metadata": {},
   "source": [
    "# Reverse of a number\n",
    "Send Feedback\n",
    "Write a program to generate the reverse of a given number N. Print the corresponding reverse number.\n",
    "Note : If a number has trailing zeros, then its reverse will not include them. For e.g., reverse of 10400 will be 401 instead of 00401.\n",
    "\n",
    "Input format :\n",
    "Integer N\n",
    "Output format :\n",
    "Corresponding reverse number\n",
    "Constraints:\n",
    "0 <= N < 10^8\n",
    "Sample Input 1 :\n",
    "1234\n",
    "Sample Output 1 :\n",
    "4321\n",
    "Sample Input 2 :\n",
    "1980\n",
    "Sample Output 2 :\n",
    "891"
   ]
  },
  {
   "cell_type": "code",
   "execution_count": null,
   "id": "28d4d025",
   "metadata": {},
   "outputs": [],
   "source": [
    "#Write Your Code Here\n",
    "\n",
    "num=int(input()) \n",
    "rev=0\n",
    "while num>0:\n",
    "    rev=rev*10+num%10\n",
    "    num=num//10\n",
    "print(rev)"
   ]
  }
 ],
 "metadata": {
  "kernelspec": {
   "display_name": "Python 3",
   "language": "python",
   "name": "python3"
  },
  "language_info": {
   "codemirror_mode": {
    "name": "ipython",
    "version": 3
   },
   "file_extension": ".py",
   "mimetype": "text/x-python",
   "name": "python",
   "nbconvert_exporter": "python",
   "pygments_lexer": "ipython3",
   "version": "3.8.8"
  }
 },
 "nbformat": 4,
 "nbformat_minor": 5
}
