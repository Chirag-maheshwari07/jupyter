{
 "cells": [
  {
   "cell_type": "markdown",
   "id": "217a04b8",
   "metadata": {},
   "source": [
    "# Palindrome number\n",
    "Send Feedback\n",
    "Write a program to determine if given number is palindrome or not. Print true if it is palindrome, false otherwise.\n",
    "Palindrome are the numbers for which reverse is exactly same as the original one. For eg. 121\n",
    "Sample Input 1 :\n",
    "121\n",
    "Sample Output 1 :\n",
    "true\n",
    "Sample Input 2 :\n",
    "1032\n",
    "Sample Output 2 :\n",
    "false"
   ]
  },
  {
   "cell_type": "code",
   "execution_count": null,
   "id": "7b3c0b59",
   "metadata": {},
   "outputs": [],
   "source": [
    "def checkPalindrome(num):\n",
    "#Implement Your Code Here\n",
    "\tpass\n",
    "\t\t\n",
    "num = int(input())\n",
    "temp=num\n",
    "rev=0\n",
    "while(num>0):\n",
    "    rev=rev*10+num%10\n",
    "    num=num//10\n",
    "if(temp==rev):\n",
    "    print(\"true\")\n",
    "else:\n",
    "    print(\"false\")\n",
    "\n",
    "\n"
   ]
  }
 ],
 "metadata": {
  "kernelspec": {
   "display_name": "Python 3",
   "language": "python",
   "name": "python3"
  },
  "language_info": {
   "codemirror_mode": {
    "name": "ipython",
    "version": 3
   },
   "file_extension": ".py",
   "mimetype": "text/x-python",
   "name": "python",
   "nbconvert_exporter": "python",
   "pygments_lexer": "ipython3",
   "version": "3.8.8"
  }
 },
 "nbformat": 4,
 "nbformat_minor": 5
}
