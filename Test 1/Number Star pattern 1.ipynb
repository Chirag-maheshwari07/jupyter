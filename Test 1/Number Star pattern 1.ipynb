{
 "cells": [
  {
   "cell_type": "markdown",
   "id": "27b700c2",
   "metadata": {},
   "source": [
    "# Number Star pattern 1\n",
    "Send Feedback\n",
    "Print the following pattern for given number of rows.\n",
    "Input format :\n",
    "Integer N (Total number of rows)\n",
    "Output Format :\n",
    "Pattern in N lines\n",
    "Sample Input :\n",
    "   5\n",
    "Sample Output :\n",
    " 5432*\n",
    " 543*1\n",
    " 54*21\n",
    " 5*321\n",
    " *4321"
   ]
  },
  {
   "cell_type": "code",
   "execution_count": null,
   "id": "ae9a9459",
   "metadata": {},
   "outputs": [],
   "source": [
    "## Read input as specified in the question.\n",
    "## Print output as specified in the question.\n",
    "n=int(input())\n",
    "for i in  range(1,n+1):\n",
    "    for j in range(n,0,-1):\n",
    "        if(i==j):\n",
    "            print('*',end=(''))\n",
    "        else:\n",
    "            print(j,end=(''))\n",
    "    print('')\n",
    "        \n",
    "        \n",
    "        "
   ]
  }
 ],
 "metadata": {
  "kernelspec": {
   "display_name": "Python 3",
   "language": "python",
   "name": "python3"
  },
  "language_info": {
   "codemirror_mode": {
    "name": "ipython",
    "version": 3
   },
   "file_extension": ".py",
   "mimetype": "text/x-python",
   "name": "python",
   "nbconvert_exporter": "python",
   "pygments_lexer": "ipython3",
   "version": "3.8.8"
  }
 },
 "nbformat": 4,
 "nbformat_minor": 5
}
