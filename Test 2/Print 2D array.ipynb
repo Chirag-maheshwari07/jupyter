{
 "cells": [
  {
   "attachments": {},
   "cell_type": "markdown",
   "id": "3a3fb787",
   "metadata": {},
   "source": [
    "# Print 2D array\n",
    "Send Feedback\n",
    "Given a 2D integer array with n rows and m columns. Print the 0th row from input n times, 1st row n-1 times…..(n-1)th row will be printed 1 time.\n",
    "Input format :\n",
    "Line 1 : No of rows(n) & No of columns(m) (separated by space)\n",
    "Line 2 : Row 1 elements (separated by space)\n",
    "Line 3 : Row 2 elements (separated by space)\n",
    "Line 4 : and so on\n",
    "Sample Input :\n",
    "3 3\n",
    "1    2    3\n",
    "4    5    6\n",
    "7    8    9\n",
    "Sample Output :\n",
    "1    2    3\n",
    "1    2    3\n",
    "1    2    3\n",
    "4    5    6\n",
    "4    5    6\n",
    "7    8    9"
   ]
  },
  {
   "cell_type": "code",
   "execution_count": null,
   "id": "f01d86f0",
   "metadata": {},
   "outputs": [],
   "source": [
    "## Read input as specified in the question.\n",
    "## Print output as specified in the question.\n",
    "n,m=map(int,input().split())\n",
    "for i in range(n):\n",
    "    a=list(map(int,input().split()))\n",
    "    for j in range(n-i):\n",
    "        print(*a)"
   ]
  }
 ],
 "metadata": {
  "kernelspec": {
   "display_name": "Python 3",
   "language": "python",
   "name": "python3"
  },
  "language_info": {
   "codemirror_mode": {
    "name": "ipython",
    "version": 3
   },
   "file_extension": ".py",
   "mimetype": "text/x-python",
   "name": "python",
   "nbconvert_exporter": "python",
   "pygments_lexer": "ipython3",
   "version": "3.8.8"
  }
 },
 "nbformat": 4,
 "nbformat_minor": 5
}
