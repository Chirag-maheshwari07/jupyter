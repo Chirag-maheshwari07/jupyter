{
 "cells": [
  {
   "cell_type": "markdown",
   "id": "f610f1b3",
   "metadata": {},
   "source": [
    "# Print Number Pyramid\n",
    "Send Feedback\n",
    "Print the following pattern for a given n.\n",
    "For eg. N = 6\n",
    "123456\n",
    "  23456\n",
    "    3456\n",
    "      456\n",
    "        56\n",
    "          6\n",
    "        56\n",
    "      456\n",
    "    3456\n",
    "  23456\n",
    "123456\n",
    "Sample Input 1 :\n",
    "4\n",
    "Sample Output 1 :\n",
    "1234\n",
    "  234\n",
    "    34\n",
    "      4\n",
    "    34\n",
    "  234\n",
    "1234"
   ]
  },
  {
   "cell_type": "code",
   "execution_count": null,
   "id": "8ee5bd89",
   "metadata": {},
   "outputs": [],
   "source": [
    "## Read input as specified in the question.\n",
    "## Print output as specified in the question.\n",
    "n=int(input())\n",
    "n1=n\n",
    "for i in range(1,n+1,1):\n",
    "    for s in range(i-1):\n",
    "        print(' ',end=(''))\n",
    "    for j in range(i,n+1,1):\n",
    "        print(j,end=(''))\n",
    "    print('')\n",
    "n2=n-1\n",
    "for i in range(n2,0,-1):\n",
    "    for s in range(i-1):\n",
    "        print(' ',end=(''))\n",
    "    for k in range(i,n+1,1):\n",
    "        print(k,end=(''))\n",
    "    print('')\n",
    "        "
   ]
  }
 ],
 "metadata": {
  "kernelspec": {
   "display_name": "Python 3",
   "language": "python",
   "name": "python3"
  },
  "language_info": {
   "codemirror_mode": {
    "name": "ipython",
    "version": 3
   },
   "file_extension": ".py",
   "mimetype": "text/x-python",
   "name": "python",
   "nbconvert_exporter": "python",
   "pygments_lexer": "ipython3",
   "version": "3.8.8"
  }
 },
 "nbformat": 4,
 "nbformat_minor": 5
}
