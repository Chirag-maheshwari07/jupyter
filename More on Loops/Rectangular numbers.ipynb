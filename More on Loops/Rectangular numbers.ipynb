{
 "cells": [
  {
   "cell_type": "markdown",
   "id": "915e09e4",
   "metadata": {},
   "source": [
    "# Rectangular numbers\n",
    "Send Feedback\n",
    "Print the following pattern for the given number of rows.\n",
    "Pattern for N = 4\n",
    "4444444\n",
    "4333334\n",
    "4322234\n",
    "4321234\n",
    "4322234\n",
    "4333334  \n",
    "4444444\n",
    "Input format : N (Total no. of rows)\n",
    "Output format : Pattern in N lines\n",
    "Sample Input :\n",
    "3\n",
    "Sample Output :\n",
    "33333\n",
    "32223\n",
    "32123\n",
    "32223\n",
    "33333"
   ]
  },
  {
   "cell_type": "code",
   "execution_count": null,
   "id": "2b44169d",
   "metadata": {},
   "outputs": [],
   "source": [
    "## Read input as specified in the question.\n",
    "## Print output as specified in the question.\n",
    "n=int(input())\n",
    "for i in range(1,2*n,1):\n",
    "    p=n\n",
    "    for j in range(1,2*n):\n",
    "        print(p,end=(''))\n",
    "        if(j<i):\n",
    "            p-=1\n",
    "        if(j>=2*n-i):\n",
    "            p+=1\n",
    "    print('')\n",
    "            \n",
    "        "
   ]
  }
 ],
 "metadata": {
  "kernelspec": {
   "display_name": "Python 3",
   "language": "python",
   "name": "python3"
  },
  "language_info": {
   "codemirror_mode": {
    "name": "ipython",
    "version": 3
   },
   "file_extension": ".py",
   "mimetype": "text/x-python",
   "name": "python",
   "nbconvert_exporter": "python",
   "pygments_lexer": "ipython3",
   "version": "3.8.8"
  }
 },
 "nbformat": 4,
 "nbformat_minor": 5
}
