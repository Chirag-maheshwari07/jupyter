{
 "cells": [
  {
   "cell_type": "markdown",
   "id": "f1a28bb2",
   "metadata": {},
   "source": [
    "# Diamond of Stars\n",
    "Send Feedback\n",
    "Print the following pattern for the given number of rows.\n",
    "Note: N is always odd.\n",
    "\n",
    "Pattern for N = 5\n",
    "\n",
    "\n",
    "The dots represent spaces.\n",
    "\n",
    "\n",
    "Input format :\n",
    "N (Total no. of rows and can only be odd)\n",
    "Output format :\n",
    "Pattern in N lines\n",
    "Constraints :\n",
    "1 <= N <= 49\n",
    "Sample Input 1:\n",
    "5\n",
    "Sample Output 1:\n",
    "  *\n",
    " ***\n",
    "*****\n",
    " ***\n",
    "  *\n",
    "Sample Input 2:\n",
    "3\n",
    "Sample Output 2:\n",
    "  *\n",
    " ***\n",
    "  *"
   ]
  },
  {
   "cell_type": "code",
   "execution_count": null,
   "id": "0b79697a",
   "metadata": {},
   "outputs": [],
   "source": [
    "## Read input as specified in the question.\n",
    "## Print output as specified in the question.\n",
    "n=int(input())\n",
    "n1=(n+1)//2\n",
    "for i in range(1,n1+1,1):\n",
    "    for s in range(n1-i,0,-1):\n",
    "        print(' ',end=(''))\n",
    "    for j in range(1,2*i,1):\n",
    "        print('*',end=(''))\n",
    "    print('')\n",
    "n2=(n-1)//2\n",
    "for i in range(n2,0,-1):\n",
    "    for s in range(n2-i+1):\n",
    "        print(' ',end=(''))\n",
    "    for j in range(2*i-1,0,-1):\n",
    "        print('*',end=(''))\n",
    "    print('')\n",
    "        "
   ]
  }
 ],
 "metadata": {
  "kernelspec": {
   "display_name": "Python 3",
   "language": "python",
   "name": "python3"
  },
  "language_info": {
   "codemirror_mode": {
    "name": "ipython",
    "version": 3
   },
   "file_extension": ".py",
   "mimetype": "text/x-python",
   "name": "python",
   "nbconvert_exporter": "python",
   "pygments_lexer": "ipython3",
   "version": "3.8.8"
  }
 },
 "nbformat": 4,
 "nbformat_minor": 5
}
