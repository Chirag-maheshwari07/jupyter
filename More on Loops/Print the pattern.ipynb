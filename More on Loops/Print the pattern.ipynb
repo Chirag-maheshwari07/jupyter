{
 "cells": [
  {
   "cell_type": "markdown",
   "id": "b3226399",
   "metadata": {},
   "source": [
    "# Print the pattern\n",
    "Send Feedback\n",
    "Print the following pattern for the given number of rows.\n",
    "Pattern for N = 5\n",
    " 1    2   3    4   5\n",
    " 11   12  13   14  15\n",
    " 21   22  23   24  25\n",
    " 16   17  18   19  20\n",
    " 6    7    8   9   10\n",
    "Input format : N (Total no. of rows)\n",
    "Output format : Pattern in N lines\n",
    "Sample Input :\n",
    "4\n",
    "Sample Output :\n",
    " 1  2  3  4\n",
    " 9 10 11 12\n",
    "13 14 15 16\n",
    " 5  6  7  8"
   ]
  },
  {
   "cell_type": "code",
   "execution_count": null,
   "id": "675f18db",
   "metadata": {},
   "outputs": [],
   "source": [
    "n=int(input())\n",
    "startvalue=1\n",
    "for i in range(1,n+1):\n",
    "    for j in range(startvalue,startvalue+n):\n",
    "        print(j,end=\" \")\n",
    "    print()\n",
    "    if i==(n+1)//2:\n",
    "        if n%2!=0:\n",
    "            startvalue=n*(n-2)+1\n",
    "        else:\n",
    "            startvalue=n*(n-1)+1\n",
    "    elif i>(n+1)//2:\n",
    "        startvalue=startvalue-2*n\n",
    "    else:\n",
    "        startvalue=startvalue+2*n"
   ]
  }
 ],
 "metadata": {
  "kernelspec": {
   "display_name": "Python 3",
   "language": "python",
   "name": "python3"
  },
  "language_info": {
   "codemirror_mode": {
    "name": "ipython",
    "version": 3
   },
   "file_extension": ".py",
   "mimetype": "text/x-python",
   "name": "python",
   "nbconvert_exporter": "python",
   "pygments_lexer": "ipython3",
   "version": "3.8.8"
  }
 },
 "nbformat": 4,
 "nbformat_minor": 5
}
