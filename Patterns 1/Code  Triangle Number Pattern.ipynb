{
 "cells": [
  {
   "cell_type": "markdown",
   "id": "d6e99502",
   "metadata": {},
   "source": [
    "# Code : Triangle Number Pattern\n",
    "Send Feedback\n",
    "Print the following pattern for the given N number of rows.\n",
    "Pattern for N = 4\n",
    "1\n",
    "22\n",
    "333\n",
    "4444\n",
    "Input format :\n",
    "Integer N (Total no. of rows)\n",
    "Output format :\n",
    "Pattern in N lines\n",
    "Constraints\n",
    "0 <= N <= 50\n",
    "Sample Input 1:\n",
    "5\n",
    "Sample Output 1:\n",
    "1\n",
    "22\n",
    "333\n",
    "4444\n",
    "55555\n",
    "Sample Input 2:\n",
    "6\n",
    "Sample Output 2:\n",
    "1\n",
    "22\n",
    "333\n",
    "4444\n",
    "55555\n",
    "666666"
   ]
  },
  {
   "cell_type": "code",
   "execution_count": null,
   "id": "d9727693",
   "metadata": {},
   "outputs": [],
   "source": [
    "## Read input as specified in the question\n",
    "## Print the required output in given format\n",
    "n=int(input())\n",
    "i=1\n",
    "while(i<=n):\n",
    "    j=1\n",
    "    while(j<=i):\n",
    "        print(i,end=\"\")\n",
    "        j=j+1\n",
    "    print(\"\")\n",
    "    i=i+1"
   ]
  }
 ],
 "metadata": {
  "kernelspec": {
   "display_name": "Python 3",
   "language": "python",
   "name": "python3"
  },
  "language_info": {
   "codemirror_mode": {
    "name": "ipython",
    "version": 3
   },
   "file_extension": ".py",
   "mimetype": "text/x-python",
   "name": "python",
   "nbconvert_exporter": "python",
   "pygments_lexer": "ipython3",
   "version": "3.8.8"
  }
 },
 "nbformat": 4,
 "nbformat_minor": 5
}
