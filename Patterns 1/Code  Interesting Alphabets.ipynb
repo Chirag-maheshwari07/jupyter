{
 "cells": [
  {
   "cell_type": "markdown",
   "id": "a14a1706",
   "metadata": {},
   "source": [
    "# Code : Interesting Alphabets\n",
    "Send Feedback\n",
    "Print the following pattern for the given number of rows.\n",
    "Pattern for N = 5\n",
    "E\n",
    "DE\n",
    "CDE\n",
    "BCDE\n",
    "ABCDE\n",
    "Input format :\n",
    "N (Total no. of rows)\n",
    "Output format :\n",
    "Pattern in N lines\n",
    "Constraints\n",
    "0 <= N <= 26\n",
    "Sample Input 1:\n",
    "8\n",
    "Sample Output 1:\n",
    "H\n",
    "GH\n",
    "FGH\n",
    "EFGH\n",
    "DEFGH\n",
    "CDEFGH\n",
    "BCDEFGH\n",
    "ABCDEFGH\n",
    "Sample Input 2:\n",
    "7\n",
    "Sample Output 2:\n",
    "G\n",
    "FG\n",
    "EFG\n",
    "DEFG\n",
    "CDEFG\n",
    "BCDEFG\n",
    "ABCDEFG"
   ]
  },
  {
   "cell_type": "code",
   "execution_count": null,
   "id": "cd2c4e4c",
   "metadata": {},
   "outputs": [],
   "source": [
    "## Read input as specified in the question.\n",
    "## Print output as specified in the question.\n",
    "n = int(input())\n",
    "i = 1\n",
    "# p = 1\n",
    "while i <= n :\n",
    "    j = 1\n",
    "    # start_char = chr(ord() + i - 1)\n",
    "    while j <= i:\n",
    "        #print jth character\n",
    "        charP = chr(ord('A') + n - i  + j - 1)\n",
    "        print(charP, end = '')\n",
    "        j = j + 1\n",
    "        # p = p + 1\n",
    "    print()\n",
    "    i = i + 1\n",
    "        \n",
    "    "
   ]
  }
 ],
 "metadata": {
  "kernelspec": {
   "display_name": "Python 3",
   "language": "python",
   "name": "python3"
  },
  "language_info": {
   "codemirror_mode": {
    "name": "ipython",
    "version": 3
   },
   "file_extension": ".py",
   "mimetype": "text/x-python",
   "name": "python",
   "nbconvert_exporter": "python",
   "pygments_lexer": "ipython3",
   "version": "3.8.8"
  }
 },
 "nbformat": 4,
 "nbformat_minor": 5
}
