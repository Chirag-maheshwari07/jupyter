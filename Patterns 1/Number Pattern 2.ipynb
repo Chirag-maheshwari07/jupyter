{
 "cells": [
  {
   "cell_type": "markdown",
   "id": "b8d3abc1",
   "metadata": {},
   "source": [
    "# Number Pattern 2\n",
    "Send Feedback\n",
    "Print the following pattern for the given N number of rows.\n",
    "Pattern for N = 4\n",
    "1\n",
    "11\n",
    "202\n",
    "3003\n",
    "Input format :\n",
    "Integer N (Total no. of rows)\n",
    "Contraints:\n",
    "1 <= n <= 50\n",
    "Output format :\n",
    "Pattern in N lines\n",
    "Sample Input :\n",
    "5\n",
    "Sample Output :\n",
    "1\n",
    "11\n",
    "202\n",
    "3003\n",
    "40004"
   ]
  },
  {
   "cell_type": "code",
   "execution_count": null,
   "id": "2f195a11",
   "metadata": {},
   "outputs": [],
   "source": [
    "## Read input as specified in the question.\n",
    "## Print output as specified in the question.\n",
    "n=int(input())\n",
    "i=1\n",
    "while(i<=n):\n",
    "    j=1\n",
    "    while(j<=i):\n",
    "        if(i==1 and j==1):\n",
    "            print('1',end=(\"\"))\n",
    "        elif(j==1):\n",
    "            print(i+j-2,end=(''))\n",
    "        elif(j==i):\n",
    "            print(j-1,end=(''))\n",
    "        else:\n",
    "            print(0,end=(''))\n",
    "        j=j+1\n",
    "    print('')\n",
    "    i=i+1"
   ]
  }
 ],
 "metadata": {
  "kernelspec": {
   "display_name": "Python 3",
   "language": "python",
   "name": "python3"
  },
  "language_info": {
   "codemirror_mode": {
    "name": "ipython",
    "version": 3
   },
   "file_extension": ".py",
   "mimetype": "text/x-python",
   "name": "python",
   "nbconvert_exporter": "python",
   "pygments_lexer": "ipython3",
   "version": "3.8.8"
  }
 },
 "nbformat": 4,
 "nbformat_minor": 5
}
