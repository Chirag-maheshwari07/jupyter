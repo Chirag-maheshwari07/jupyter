{
 "cells": [
  {
   "cell_type": "markdown",
   "id": "a2d2cbdf",
   "metadata": {},
   "source": [
    "# Palindrome number\n",
    "Send Feedback\n",
    "Write a program to determine if given number is palindrome or not. Print true if it is palindrome, false otherwise.\n",
    "Palindrome are the numbers for which reverse is exactly same as the original one. For eg. 121\n",
    "Sample Input 1 :\n",
    "121\n",
    "Sample Output 1 :\n",
    "true\n",
    "Sample Input 2 :\n",
    "1032\n",
    "Sample Output 2 :\n",
    "false"
   ]
  },
  {
   "cell_type": "code",
   "execution_count": null,
   "id": "8c977f13",
   "metadata": {},
   "outputs": [],
   "source": [
    "def checkPalindrome(num):\n",
    "    reverse=0\n",
    "    while(num>0):\n",
    "        r=num%10\n",
    "        reverse=(reverse*10)+r\n",
    "        num=num//10\n",
    "    return (reverse)\n",
    "num = int(input())\n",
    "temp=num\n",
    "x=checkPalindrome(num)\n",
    "if(temp==x):\n",
    "    print('true')\n",
    "else:\n",
    "    print('false')"
   ]
  }
 ],
 "metadata": {
  "kernelspec": {
   "display_name": "Python 3",
   "language": "python",
   "name": "python3"
  },
  "language_info": {
   "codemirror_mode": {
    "name": "ipython",
    "version": 3
   },
   "file_extension": ".py",
   "mimetype": "text/x-python",
   "name": "python",
   "nbconvert_exporter": "python",
   "pygments_lexer": "ipython3",
   "version": "3.8.8"
  }
 },
 "nbformat": 4,
 "nbformat_minor": 5
}
