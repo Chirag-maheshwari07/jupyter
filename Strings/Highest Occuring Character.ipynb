{
 "cells": [
  {
   "cell_type": "markdown",
   "id": "89f800b3",
   "metadata": {},
   "source": [
    "# Highest Occuring Character\n",
    "Send Feedback\n",
    "For a given a string(str), find and return the highest occurring character.\n",
    "Example:\n",
    "Input String: \"abcdeapapqarr\"\n",
    "Expected Output: 'a'\n",
    "Since 'a' has appeared four times in the string which happens to be the highest frequency character, the answer would be 'a'.\n",
    "If there are two characters in the input string with the same frequency, return the character which comes first.\n",
    "Consider:\n",
    "Assume all the characters in the given string to be in lowercase always.\n",
    "Input Format:\n",
    "The first and only line of input contains a string without any leading and trailing spaces.\n",
    "Output Format:\n",
    "The only line of output prints the updated string. \n",
    "Note:\n",
    "You are not required to print anything explicitly. It has already been taken care of.\n",
    "Constraints:\n",
    "0 <= N <= 10^6\n",
    "Where N is the length of the input string.\n",
    "\n",
    "Time Limit: 1 second\n",
    "Sample Input 1:\n",
    "abdefgbabfba\n",
    "Sample Output 1:\n",
    "b\n",
    "Sample Input 2:\n",
    "xy\n",
    "Sample Output 2:\n",
    "x"
   ]
  },
  {
   "cell_type": "code",
   "execution_count": null,
   "id": "8461aaa9",
   "metadata": {},
   "outputs": [],
   "source": [
    "\n",
    "from sys import stdin\n",
    "\n",
    "\n",
    "def highestOccuringChar(string) :\n",
    "\t#Your code goes here\n",
    "    l = list(string)\n",
    "    chr = 0\n",
    "    max = 0\n",
    "    uniq_str=\"\"\n",
    "    for i in string:\n",
    "        if i not in uniq_str:\n",
    "            uniq_str+=i\n",
    "    for i in uniq_str:\n",
    "        if max<l.count(i):\n",
    "            max=l.count(i)\n",
    "            chr=i\n",
    "            \n",
    "    \n",
    "    return chr         \n",
    "            \n",
    "\t\n",
    "\n",
    "\n",
    "\n",
    "#main\n",
    "string = stdin.readline().strip();\n",
    "ans = highestOccuringChar(string)\n",
    "\n",
    "print(ans)\n",
    "\n"
   ]
  }
 ],
 "metadata": {
  "kernelspec": {
   "display_name": "Python 3",
   "language": "python",
   "name": "python3"
  },
  "language_info": {
   "codemirror_mode": {
    "name": "ipython",
    "version": 3
   },
   "file_extension": ".py",
   "mimetype": "text/x-python",
   "name": "python",
   "nbconvert_exporter": "python",
   "pygments_lexer": "ipython3",
   "version": "3.8.8"
  }
 },
 "nbformat": 4,
 "nbformat_minor": 5
}
