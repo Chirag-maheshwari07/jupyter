{
 "cells": [
  {
   "attachments": {},
   "cell_type": "markdown",
   "id": "a7c77767",
   "metadata": {},
   "source": [
    "# Balanced Strings\n",
    "Send Feedback\n",
    "Two Strings are said to be balanced if all the characters present in the first string are also present in the second string.Position of characters does not matter. Write a code which takes two strings as input and prints True if they are balanced, and False otherwise.\n",
    "Input format:\n",
    "The first line of input contains a string without any leading and trailing spaces, representing the first string 'str1'\n",
    "\n",
    "The second line of input contains a string without any leading and trailing spaces, representing the second string 'str2'.\n",
    "Output Format:\n",
    " The only line of output prints either 'True' or 'False', denoting whether the two strings are balanced or not.\n",
    "Sample Input 1\n",
    "set\n",
    "speciality\n",
    "Sample Output 1\n",
    "True\n",
    "Sample Input 2\n",
    "help\n",
    "helmet\n",
    "Sample Output 2\n",
    "False"
   ]
  },
  {
   "cell_type": "code",
   "execution_count": null,
   "id": "2b3dae58",
   "metadata": {},
   "outputs": [],
   "source": [
    "def balancedstrings(string1, string2):\n",
    "    for i in string1:\n",
    "        if i in string2:\n",
    "            continue\n",
    "        else:\n",
    "            return \"False\"\n",
    "    return \"True\"\n",
    "  \n",
    "\n",
    "\n",
    "\n",
    "str1 = input().strip()\n",
    "str2 = input().strip()\n",
    "print(balancedstrings(str1, str2))"
   ]
  }
 ],
 "metadata": {
  "kernelspec": {
   "display_name": "Python 3",
   "language": "python",
   "name": "python3"
  },
  "language_info": {
   "codemirror_mode": {
    "name": "ipython",
    "version": 3
   },
   "file_extension": ".py",
   "mimetype": "text/x-python",
   "name": "python",
   "nbconvert_exporter": "python",
   "pygments_lexer": "ipython3",
   "version": "3.8.8"
  }
 },
 "nbformat": 4,
 "nbformat_minor": 5
}
