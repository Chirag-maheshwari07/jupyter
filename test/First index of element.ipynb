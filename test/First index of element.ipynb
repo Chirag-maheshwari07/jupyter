{
 "cells": [
  {
   "attachments": {},
   "cell_type": "markdown",
   "id": "3b49304d",
   "metadata": {},
   "source": [
    "# First index of element\n",
    "Send Feedback\n",
    "Take an array with n elements with possibly duplicate elements as the input. The task is to find the index of the first occurrences of the element x in the array and, if it is not present, return -1.\n",
    "Input Format:\n",
    "The first line contains an integer N representing the size of the array.\n",
    "\n",
    "The next line contains N space-separated integers representing the elements of the array.\n",
    "\n",
    "The last line contains an integer 'x' whose index has to be found.\n",
    "Output Format:\n",
    "The only line of the output prints the Index or -1.\n",
    "Constraints:\n",
    "1 <= N <= 10^3\n",
    "1 <= arr[i] <= 10^9\n",
    "1 <= x < N\n",
    "Sample Input 1 :\n",
    "8\n",
    "7 5 2 11 2 43 1 1\n",
    "2\n",
    "Sample Output 1 :\n",
    "2\n",
    "Explanation of Sample Input 1:\n",
    "2 is present twice in the input array and the first time it appears is at index 2.\n",
    "Sample Input 2 :\n",
    "8\n",
    "7 5 2 11 2 43 1 1\n",
    "10\n",
    "Sample Output 2 :\n",
    "-1\n",
    "Explanation of Sample Input 2:\n",
    "10 is not present in the array so the output is -1."
   ]
  },
  {
   "cell_type": "code",
   "execution_count": null,
   "id": "26a4d781",
   "metadata": {},
   "outputs": [],
   "source": [
    "\n",
    "\n",
    "\n",
    "#Your code goes here.\n",
    "n=int(input())\n",
    "li=[int(x) for x in input().split()]\n",
    "num=int(input())\n",
    "for i in range (n):\n",
    "    if li[i]==num:\n",
    "        print(i)\n",
    "        break\n",
    "else:\n",
    "        print(-1)\n",
    "\n",
    "\n",
    "\n",
    "\n",
    "\n",
    "\n"
   ]
  }
 ],
 "metadata": {
  "kernelspec": {
   "display_name": "Python 3",
   "language": "python",
   "name": "python3"
  },
  "language_info": {
   "codemirror_mode": {
    "name": "ipython",
    "version": 3
   },
   "file_extension": ".py",
   "mimetype": "text/x-python",
   "name": "python",
   "nbconvert_exporter": "python",
   "pygments_lexer": "ipython3",
   "version": "3.8.8"
  }
 },
 "nbformat": 4,
 "nbformat_minor": 5
}
